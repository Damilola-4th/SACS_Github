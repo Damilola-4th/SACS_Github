{
 "cells": [
  {
   "cell_type": "markdown",
   "metadata": {},
   "source": [
    "# Beginners Guide to Python pt2\n",
    "\n",
    "In this section we will be going over `Loops` and `functions` to create mini-projects and learn the deeper fundamentals of python"
   ]
  },
  {
   "cell_type": "markdown",
   "metadata": {},
   "source": [
    "## What is a loop?\n",
    "\n",
    "Loops are a fundamental concept in programming that allow you to `repeat` a block of code multiple times. In Python, there are two main types of loops: `for` loops and `while` loops.\n"
   ]
  },
  {
   "cell_type": "markdown",
   "metadata": {},
   "source": [
    "### What is a for loop?\n",
    "- A `for` loop is a loop that iterates over a sequence (such as a list, tuple, or string) and execute the same block of code for each item in the sequence.\n",
    "\n",
    "\n",
    "- A `for` loop can only run a specific number of times based on the range or number of items in a sequence."
   ]
  },
  {
   "cell_type": "code",
   "execution_count": 1,
   "metadata": {},
   "outputs": [
    {
     "name": "stdout",
     "output_type": "stream",
     "text": [
      "apple\n",
      "banana\n",
      "cherry\n"
     ]
    }
   ],
   "source": [
    "# Iterate over a list of fruits\n",
    "fruits = [\"apple\", \"banana\", \"cherry\"]\n",
    "for fruit in fruits:   #allows us to loop over our list\n",
    "    print(fruit)\n",
    "   "
   ]
  },
  {
   "cell_type": "markdown",
   "metadata": {},
   "source": [
    "### Nested for loops"
   ]
  },
  {
   "cell_type": "code",
   "execution_count": 2,
   "metadata": {},
   "outputs": [
    {
     "name": "stdout",
     "output_type": "stream",
     "text": [
      "apple\n",
      "11\n",
      "11\n",
      "11\n",
      "11\n",
      "11\n",
      "banana\n",
      "11\n",
      "11\n",
      "11\n",
      "11\n",
      "11\n",
      "cherry\n",
      "11\n",
      "11\n",
      "11\n",
      "11\n",
      "11\n"
     ]
    }
   ],
   "source": [
    "fruits = [\"apple\", \"banana\", \"cherry\"]\n",
    "a = 5\n",
    "b = 6 \n",
    "\n",
    "for fruit in fruits:\n",
    "    print(fruit)\n",
    "    for i in range(5):\n",
    "        print(a+b)\n",
    "\n"
   ]
  },
  {
   "cell_type": "markdown",
   "metadata": {},
   "source": [
    "### Using the range function in our for loop"
   ]
  },
  {
   "cell_type": "code",
   "execution_count": 3,
   "metadata": {},
   "outputs": [
    {
     "name": "stdout",
     "output_type": "stream",
     "text": [
      "0\n",
      "1\n",
      "2\n",
      "3\n",
      "4\n",
      "5\n",
      "6\n",
      "7\n",
      "8\n",
      "9\n"
     ]
    }
   ],
   "source": [
    "for num in range(10):\n",
    "    print(num)"
   ]
  },
  {
   "cell_type": "markdown",
   "metadata": {},
   "source": [
    "### Breakdown: \n",
    "\n",
    "\n",
    "Keyword `for` : The loop starts with the keyword for.<br>\n",
    "\n",
    "Loop Variable: fruit is the loop variable that represents each item in the fruits list during each iteration.<br>\n",
    "\n",
    "Keyword `in` : Indicates that fruit will iterate over the fruits list.<br>\n",
    "\n",
    "Sequence: `fruits` is the list over which the loop will iterate.<br>\n",
    "\n",
    "Colon `:` : The colon (:) indicates the start of the code block to be executed for each iteration.<br>\n",
    "\n",
    "Code Block: print(fruit) is the code block that gets executed for each item in the fruits list.<br>\n",
    "\n",
    "During the first iteration, fruit is \"apple\", so it prints \"apple\".<br>\n",
    "\n",
    "During the second iteration, fruit is \"banana\", so it prints \"banana\".<br>\n",
    "\n",
    "During the third iteration, fruit is \"cherry\", so it prints \"cherry\".<br>\n"
   ]
  },
  {
   "cell_type": "markdown",
   "metadata": {},
   "source": [
    "### What is a while loop?\n",
    "A `while` loop is used to repeat a block of code as long as a condition is true.\n",
    "\n"
   ]
  },
  {
   "cell_type": "code",
   "execution_count": 4,
   "metadata": {},
   "outputs": [
    {
     "name": "stdout",
     "output_type": "stream",
     "text": [
      "1\n",
      "2\n",
      "3\n",
      "4\n",
      "5\n"
     ]
    }
   ],
   "source": [
    "# Print numbers from 1 to 5 using a while loop\n",
    "num = 1\n",
    "while num <= 5:\n",
    "    print(num)\n",
    "    num += 1\n"
   ]
  },
  {
   "cell_type": "markdown",
   "metadata": {},
   "source": [
    "# Functions\n",
    "\n",
    "Functions are reuseable blocks of code that perform a specific action\n",
    "\n",
    "### Defining a function\n",
    "\n",
    "In Python, you define a function using the `def` keyword, followed by the function `name` and parentheses `()`. You can also specify parameters inside the parentheses if the function needs input values.\n",
    "\n",
    "### Components of a function\n",
    "`Parameters` are input values that a function takes in.\n",
    "\n",
    "`Function Name` : A descriptive name that reflects the purpose of the function.\n",
    "\n",
    "`Function Body` : The block of code that performs the task of the function. It can contain any valid Python code.\n",
    "\n",
    "`Return Statement` : Optional statement used to return a value from the function back to the caller. If omitted, the function returns None by default.\n",
    "\n"
   ]
  },
  {
   "cell_type": "markdown",
   "metadata": {},
   "source": [
    "### Creating a function"
   ]
  },
  {
   "cell_type": "code",
   "execution_count": 5,
   "metadata": {},
   "outputs": [
    {
     "name": "stdout",
     "output_type": "stream",
     "text": [
      "8\n"
     ]
    }
   ],
   "source": [
    "def add(x, y): #This function takes has 2 parameters x and y\n",
    "    return x + y # This is the output that is returned by the function\n",
    "\n",
    "# Call the function\n",
    "result = add(3, 5)\n",
    "print(result)  # Output: 8\n"
   ]
  },
  {
   "cell_type": "markdown",
   "metadata": {},
   "source": [
    "In this example we can create a function without parameters "
   ]
  },
  {
   "cell_type": "code",
   "execution_count": 6,
   "metadata": {},
   "outputs": [
    {
     "data": {
      "text/plain": [
       "'Hello!'"
      ]
     },
     "execution_count": 6,
     "metadata": {},
     "output_type": "execute_result"
    }
   ],
   "source": [
    "\n",
    "def say_hello(): \n",
    "    return \"Hello!\"\n",
    "\n",
    "say_hello()"
   ]
  }
 ],
 "metadata": {
  "kernelspec": {
   "display_name": "Python 3",
   "language": "python",
   "name": "python3"
  },
  "language_info": {
   "codemirror_mode": {
    "name": "ipython",
    "version": 3
   },
   "file_extension": ".py",
   "mimetype": "text/x-python",
   "name": "python",
   "nbconvert_exporter": "python",
   "pygments_lexer": "ipython3",
   "version": "3.12.0"
  }
 },
 "nbformat": 4,
 "nbformat_minor": 2
}
