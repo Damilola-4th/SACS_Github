{
 "cells": [
  {
   "cell_type": "markdown",
   "metadata": {},
   "source": [
    "# Intro to ML\n",
    "\n",
    "### What is Machine Learning?\n",
    "\n",
    "Machine Learning (ML) is a type of computer technology that helps computers learn from data without being explicitly programmed. There are three main types:\n",
    "\n",
    "- `Supervised Learning`: Learning from labeled data to make predictions.\n",
    "- `Unsupervised Learning`: Finding patterns in unlabeled data.\n",
    "- `Reinforcement Learning`: Learning from trial and error to maximize rewards.\n",
    "\n",
    "\n",
    "ML is used in various areas like image recognition, recommendation systems, and autonomous vehicles to solve complex problems by learning from data."
   ]
  },
  {
   "cell_type": "markdown",
   "metadata": {},
   "source": [
    "#### Importing necessary libraries\n",
    "\n",
    "- `NumPy (np)`: NumPy is essential for numerical computing in Python. It provides support for arrays, matrices, and mathematical functions, making it easier to perform complex mathematical operations efficiently. In our case, we're using it to generate and manipulate numerical data for our machine learning model.\n",
    "\n",
    "\n",
    "- `Matplotlib.pyplot (plt)`: Matplotlib is a powerful plotting library in Python. The pyplot module provides a MATLAB-like interface for creating static, interactive, and animated visualizations. In our case, we're using it to visualize our data and the results of our machine learning model.\n",
    "\n",
    "\n",
    "- `scikit-learn's LinearRegression`: Scikit-learn is a comprehensive machine learning library in Python. The LinearRegression module within scikit-learn provides functionalities for fitting linear regression models to data, making predictions, and evaluating model performance. It abstracts away the complexities of implementing linear regression algorithms from scratch, allowing us to build and train models quickly and easily."
   ]
  },
  {
   "cell_type": "code",
   "execution_count": 3,
   "metadata": {},
   "outputs": [
    {
     "ename": "ModuleNotFoundError",
     "evalue": "No module named 'matplotlib'",
     "output_type": "error",
     "traceback": [
      "\u001b[1;31m---------------------------------------------------------------------------\u001b[0m",
      "\u001b[1;31mModuleNotFoundError\u001b[0m                       Traceback (most recent call last)",
      "Cell \u001b[1;32mIn[3], line 2\u001b[0m\n\u001b[0;32m      1\u001b[0m \u001b[38;5;28;01mimport\u001b[39;00m \u001b[38;5;21;01mnumpy\u001b[39;00m \u001b[38;5;28;01mas\u001b[39;00m \u001b[38;5;21;01mnp\u001b[39;00m\n\u001b[1;32m----> 2\u001b[0m \u001b[38;5;28;01mimport\u001b[39;00m \u001b[38;5;21;01mmatplotlib\u001b[39;00m\u001b[38;5;21;01m.\u001b[39;00m\u001b[38;5;21;01mpyplot\u001b[39;00m \u001b[38;5;28;01mas\u001b[39;00m \u001b[38;5;21;01mplt\u001b[39;00m\n\u001b[0;32m      3\u001b[0m \u001b[38;5;28;01mfrom\u001b[39;00m \u001b[38;5;21;01msklearn\u001b[39;00m\u001b[38;5;21;01m.\u001b[39;00m\u001b[38;5;21;01mlinear_model\u001b[39;00m \u001b[38;5;28;01mimport\u001b[39;00m LinearRegression\n",
      "\u001b[1;31mModuleNotFoundError\u001b[0m: No module named 'matplotlib'"
     ]
    }
   ],
   "source": [
    "import numpy as np\n",
    "import matplotlib.pyplot as plt\n",
    "from sklearn.linear_model import LinearRegression"
   ]
  },
  {
   "cell_type": "markdown",
   "metadata": {},
   "source": [
    "####  Generating some random data\n",
    "\n"
   ]
  },
  {
   "cell_type": "code",
   "execution_count": null,
   "metadata": {},
   "outputs": [],
   "source": [
    "np.random.seed(0)\n",
    "X = 2 * np.random.rand(100, 1)  # Generate 100 random numbers between 0 and 2\n",
    "y = 4 + 3 * X + np.random.randn(100, 1)  # y = 4 + 3x + some random noise\n"
   ]
  },
  {
   "cell_type": "markdown",
   "metadata": {},
   "source": [
    "#### Creating our model\n",
    "\n",
    "We're training a model to understand the relationship between certain input data `(X)` and their corresponding output `(y)`, and then using that trained model to predict the output for new input data."
   ]
  },
  {
   "cell_type": "code",
   "execution_count": null,
   "metadata": {},
   "outputs": [],
   "source": [
    "model = LinearRegression()\n",
    "model.fit(X, y)\n",
    "\n",
    "# Making predictions\n",
    "X_new = np.array([[0], [2]])  # New data points for prediction\n",
    "y_pred = model.predict(X_new)"
   ]
  },
  {
   "cell_type": "markdown",
   "metadata": {},
   "source": [
    "#### Visualizing the data and model\n",
    "\n",
    "now we will utilize the `Matplotlib` library to visualize our model predictions"
   ]
  },
  {
   "cell_type": "code",
   "execution_count": null,
   "metadata": {},
   "outputs": [],
   "source": [
    "plt.scatter(X, y, color='blue')\n",
    "plt.plot(X_new, y_pred, color='red')\n",
    "plt.xlabel('X')\n",
    "plt.ylabel('y')\n",
    "plt.title('Linear Regression Model')\n",
    "plt.show()"
   ]
  },
  {
   "cell_type": "code",
   "execution_count": null,
   "metadata": {},
   "outputs": [],
   "source": [
    "# Importing necessary libraries\n",
    "\n",
    "\n",
    "# Generating some random data\n",
    "np.random.seed(0)\n",
    "X = 2 * np.random.rand(500, 1)  # Generate 500 random numbers between 0 and 2\n",
    "y = 4 + 3 * X + np.random.randn(100, 1)  # y = 4 + 3x + some random noise\n",
    "# Your code here\n",
    "\n",
    "# Creating and training the linear regression model\n",
    "# Your code here\n",
    "\n",
    "# Making predictions\n",
    "# Your code here\n",
    "\n",
    "# Visualizing the data and model\n",
    "# Your code here\n"
   ]
  }
 ],
 "metadata": {
  "kernelspec": {
   "display_name": "Python 3",
   "language": "python",
   "name": "python3"
  },
  "language_info": {
   "codemirror_mode": {
    "name": "ipython",
    "version": 3
   },
   "file_extension": ".py",
   "mimetype": "text/x-python",
   "name": "python",
   "nbconvert_exporter": "python",
   "pygments_lexer": "ipython3",
   "version": "3.12.0"
  }
 },
 "nbformat": 4,
 "nbformat_minor": 2
}
