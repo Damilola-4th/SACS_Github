{
 "cells": [
  {
   "cell_type": "markdown",
   "metadata": {},
   "source": [
    "# Beginner's Guide to Python Programming\n",
    "## Introduction\n",
    "\n",
    "Python is a versatile and beginner-friendly programming language. It's seen as the easiest language to learn due to it being closers to english than others."
   ]
  },
  {
   "cell_type": "markdown",
   "metadata": {},
   "source": [
    "## Data Types in Python\n",
    "\n",
    "Python supports several built-in data types to represent different kinds of data. Some of the commonly used data types include:\n",
    "\n",
    "1. **Integer (int)**: Represents whole numbers without any fractional part. For example: `x = 5`.\n",
    "\n",
    "2. **Float (float)**: Represents real numbers with a decimal point. For example: `y = 3.14`.\n",
    "\n",
    "3. **String (str)**: Represents a sequence of characters enclosed within single (''), double (\"\") or triple (''' or \"\"\") quotes. For example: `name = 'John'`.\n",
    "\n",
    "4. **Boolean (bool)**: Represents either True or False. Used for logical operations. For example: `is_student = True`.\n",
    "\n",
    "5. **List**: Represents an ordered collection of items. Lists can contain elements of different data types. For example: `fruits = [\"apple\", \"banana\", \"cherry\"]`.\n",
    "\n",
    "6. **Tuple**: Similar to lists, but they are immutable (cannot be changed). Tuples are defined using parentheses (). For example: `coordinates = (10, 20)`.\n",
    "\n",
    "7. **Dictionary (dict)**: Represents a collection of key-value pairs. Each key is associated with a value. For example: `person = {\"name\": \"John\", \"age\": 21}`.\n",
    "\n",
    "8. **Set**: Represents an unordered collection of unique elements. Sets do not allow duplicate values. For example: `unique_numbers = {1, 2, 3, 4}`.\n",
    "\n",
    "9. **NoneType (None)**: Represents the absence of a value or a null value. Used to indicate that a variable has no value assigned to it. For example: `x = None`.\n",
    "\n",
    "Understanding these data types is essential for effective programming in Python, as they determine how data is stored, manipulated, and processed in your programs.\n"
   ]
  },
  {
   "cell_type": "markdown",
   "metadata": {},
   "source": [
    "## Variables\n",
    "\n",
    "Variables are used to store data values. In Python, you can assign a value to a variable using the `=` operator. Let's see some examples:"
   ]
  },
  {
   "cell_type": "markdown",
   "metadata": {},
   "source": [
    "### Assigning values to variables"
   ]
  },
  {
   "cell_type": "code",
   "execution_count": 1,
   "metadata": {},
   "outputs": [
    {
     "name": "stdout",
     "output_type": "stream",
     "text": [
      "John 5 True\n"
     ]
    }
   ],
   "source": [
    "\n",
    "\n",
    "\n",
    "age = 21\n",
    "name = \"John\"\n",
    "is_student = True\n",
    "\n",
    "# Printing the values of variables\n",
    "print(name,age,is_student)\n"
   ]
  },
  {
   "cell_type": "markdown",
   "metadata": {},
   "source": [
    "# Knowledge check 1\n",
    "### creating variables\n",
    "\n",
    "create a 3 variables that represents 3 values: name,age,birthyear and hobby\n"
   ]
  },
  {
   "cell_type": "code",
   "execution_count": null,
   "metadata": {},
   "outputs": [],
   "source": [
    "\"\"\"\n",
    "Example\n",
    "\n",
    "name = \n",
    "age = \n",
    "birthyear = \n",
    "hobby = \n",
    "\n",
    "\"\"\"\n",
    "\n",
    "#create yours here\n"
   ]
  },
  {
   "cell_type": "markdown",
   "metadata": {},
   "source": [
    "# Arithmetic Operators in Python\n",
    "\n",
    "## Introduction\n",
    "\n",
    "Arithmetic operators are used to perform mathematical operations on numeric values in Python. In this notebook, we'll cover the basic arithmetic operators supported by Python, including addition, subtraction, multiplication, division, modulus, and exponentiation.\n",
    "\n",
    "### Addition (+)\n",
    "\n",
    "The addition operator (`+`) is used to add two operands. \n",
    "\n",
    "\n",
    "Let's see an example:\n"
   ]
  },
  {
   "cell_type": "code",
   "execution_count": null,
   "metadata": {},
   "outputs": [],
   "source": [
    "# Addition\n",
    "a = 5\n",
    "b = 3\n",
    "result = a + b\n",
    "print(\"Result of a + b is: \", result)  # Output: 8"
   ]
  },
  {
   "cell_type": "markdown",
   "metadata": {},
   "source": [
    "### Subtraction (-)\n",
    "The subtraction operator (`-`) is used to subtract the second operand from the first. \n",
    "\n",
    "\n",
    "Here's an example:"
   ]
  },
  {
   "cell_type": "code",
   "execution_count": null,
   "metadata": {},
   "outputs": [],
   "source": [
    "# Subtraction\n",
    "x = 10\n",
    "y = 7\n",
    "result = x - y\n",
    "print(\"Result of subtraction:\", result)  # Output: 3\n"
   ]
  },
  {
   "cell_type": "markdown",
   "metadata": {},
   "source": [
    "### Multiplication (*)\n",
    "The multiplication operator (`*`) is used to multiply two operands."
   ]
  },
  {
   "cell_type": "code",
   "execution_count": null,
   "metadata": {},
   "outputs": [],
   "source": [
    "#Example:\n",
    "p = 4\n",
    "q = 6\n",
    "result = p * q\n",
    "print(\"Result of multiplication:\", result)  # Output: 24 "
   ]
  },
  {
   "cell_type": "markdown",
   "metadata": {},
   "source": [
    "### Division (/)\n",
    "\n",
    "\n",
    "\n",
    "\n",
    "The division operator (`/`) is used to divide the first operand by the second. It returns a floating-point number. \n"
   ]
  },
  {
   "cell_type": "code",
   "execution_count": null,
   "metadata": {},
   "outputs": [],
   "source": [
    "#Example:\n",
    "\n",
    "m = 10\n",
    "n = 3\n",
    "result = m / n\n",
    "print(\"Result of division:\", result)  # Output: 3.3333333333333335"
   ]
  },
  {
   "cell_type": "markdown",
   "metadata": {},
   "source": [
    "### Modulus (%)\n",
    "The modulus operator (`%`) returns the remainder when the first operand is divided by the second."
   ]
  },
  {
   "cell_type": "code",
   "execution_count": null,
   "metadata": {},
   "outputs": [],
   "source": [
    "# Modulus\n",
    "dividend = 10\n",
    "divisor = 3\n",
    "remainder = dividend % divisor\n",
    "print(\"Remainder:\", remainder)  # Output: 1"
   ]
  },
  {
   "cell_type": "markdown",
   "metadata": {},
   "source": [
    "### Exponentiation (**)\n",
    "The exponentiation operator (`**`) raises the first operand to the power of the second operand. \n",
    "\n"
   ]
  },
  {
   "cell_type": "code",
   "execution_count": null,
   "metadata": {},
   "outputs": [],
   "source": [
    "# Exponentiation\n",
    "base = 2\n",
    "exponent = 3\n",
    "result = base ** exponent\n",
    "print(\"Result of exponentiation:\", result)  # Output: 8"
   ]
  },
  {
   "cell_type": "markdown",
   "metadata": {},
   "source": [
    "## Conditionals (if Statements)\n",
    "\n",
    "Conditionals are used to make decisions in your code based on certain conditions. In Python, you can use the `if`, `elif` (else if), and `else` statements to create conditional blocks. These statements allow your program to execute different blocks of code based on whether certain conditions are true or false.\n",
    "\n",
    "### If Statement\n",
    "\n",
    "The `if` statement is used to execute a block of code if a specified condition is true. Here's the basic syntax:\n",
    "#\n",
    "if (condition):\n",
    "#\n",
    "    code block to execute if condition is true"
   ]
  },
  {
   "cell_type": "code",
   "execution_count": null,
   "metadata": {},
   "outputs": [],
   "source": [
    "# Example of using if statement\n",
    "x = 10\n",
    "if x > 5:\n",
    "    print(\"x is greater than 5\")"
   ]
  },
  {
   "cell_type": "markdown",
   "metadata": {},
   "source": [
    "In our example above, our code will only print an output if x is greater than 5. This is the power of conditionals it allows you to run different pieces of code for any type of scenario."
   ]
  },
  {
   "cell_type": "markdown",
   "metadata": {},
   "source": [
    "The `if-else` statement allows you to execute one block of code if the condition is true and another block of code if the condition is false. "
   ]
  },
  {
   "cell_type": "code",
   "execution_count": null,
   "metadata": {},
   "outputs": [],
   "source": [
    "\"\"\"\n",
    "if condition:\n",
    "    # code will run if condition is true\n",
    "else:\n",
    "    # code will run if condition is false\n",
    "\"\"\"\n",
    "\n",
    "# Example of using if-elif-else statement\n",
    "x = 0\n",
    "if x > 0:\n",
    "    print(\"x is positive\")\n",
    "elif x < 0:\n",
    "    print(\"x is negative\")\n",
    "else:\n",
    "    print(\"x is zero\")\n"
   ]
  }
 ],
 "metadata": {
  "kernelspec": {
   "display_name": "Python 3",
   "language": "python",
   "name": "python3"
  },
  "language_info": {
   "codemirror_mode": {
    "name": "ipython",
    "version": 3
   },
   "file_extension": ".py",
   "mimetype": "text/x-python",
   "name": "python",
   "nbconvert_exporter": "python",
   "pygments_lexer": "ipython3",
   "version": "3.12.0"
  }
 },
 "nbformat": 4,
 "nbformat_minor": 2
}
